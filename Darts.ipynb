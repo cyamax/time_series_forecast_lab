{
  "nbformat": 4,
  "nbformat_minor": 0,
  "metadata": {
    "colab": {
      "name": "Darts_Time_Series_Forecast_test.ipynb",
      "provenance": [],
      "authorship_tag": "ABX9TyO7ry8AK5SAkbe3Fzasyx1a",
      "include_colab_link": true
    },
    "kernelspec": {
      "name": "python3",
      "display_name": "Python 3"
    }
  },
  "cells": [
    {
      "cell_type": "markdown",
      "metadata": {
        "id": "view-in-github",
        "colab_type": "text"
      },
      "source": [
        "<a href=\"https://colab.research.google.com/github/cyamax/time_series_forecast_lab/blob/main/Darts.ipynb\" target=\"_parent\"><img src=\"https://colab.research.google.com/assets/colab-badge.svg\" alt=\"Open In Colab\"/></a>"
      ]
    },
    {
      "cell_type": "code",
      "metadata": {
        "id": "WFv-tm0NpdFa",
        "outputId": "ad5532c8-e280-42da-fba0-2a2b2cd3adbc",
        "colab": {
          "base_uri": "https://localhost:8080/",
          "height": 1000
        }
      },
      "source": [
        "!pip install 'u8darts[all]'"
      ],
      "execution_count": 6,
      "outputs": [
        {
          "output_type": "stream",
          "text": [
            "Requirement already satisfied: u8darts[all] in /usr/local/lib/python3.6/dist-packages (0.3.0)\n",
            "Requirement already satisfied: matplotlib==3.2.2 in /usr/local/lib/python3.6/dist-packages (from u8darts[all]) (3.2.2)\n",
            "Requirement already satisfied: holidays==0.10.2 in /usr/local/lib/python3.6/dist-packages (from u8darts[all]) (0.10.2)\n",
            "Requirement already satisfied: ipython==7.15.0 in /usr/local/lib/python3.6/dist-packages (from u8darts[all]) (7.15.0)\n",
            "Requirement already satisfied: numpy==1.19.0 in /usr/local/lib/python3.6/dist-packages (from u8darts[all]) (1.19.0)\n",
            "Requirement already satisfied: tqdm==4.46.1 in /usr/local/lib/python3.6/dist-packages (from u8darts[all]) (4.46.1)\n",
            "Requirement already satisfied: scikit-learn==0.23.2 in /usr/local/lib/python3.6/dist-packages (from u8darts[all]) (0.23.2)\n",
            "Requirement already satisfied: statsmodels==0.11.1 in /usr/local/lib/python3.6/dist-packages (from u8darts[all]) (0.11.1)\n",
            "Requirement already satisfied: scipy==1.5.0 in /usr/local/lib/python3.6/dist-packages (from u8darts[all]) (1.5.0)\n",
            "Requirement already satisfied: pandas==1.1.0 in /usr/local/lib/python3.6/dist-packages (from u8darts[all]) (1.1.0)\n",
            "Requirement already satisfied: fbprophet==0.6; extra == \"all\" in /usr/local/lib/python3.6/dist-packages (from u8darts[all]) (0.6)\n",
            "Requirement already satisfied: pmdarima==1.6.1; extra == \"all\" in /usr/local/lib/python3.6/dist-packages (from u8darts[all]) (1.6.1)\n",
            "Requirement already satisfied: tensorboard==2.2.2; extra == \"all\" in /usr/local/lib/python3.6/dist-packages (from u8darts[all]) (2.2.2)\n",
            "Requirement already satisfied: torch==1.5.1; extra == \"all\" in /usr/local/lib/python3.6/dist-packages (from u8darts[all]) (1.5.1)\n",
            "Requirement already satisfied: pyparsing!=2.0.4,!=2.1.2,!=2.1.6,>=2.0.1 in /usr/local/lib/python3.6/dist-packages (from matplotlib==3.2.2->u8darts[all]) (2.4.7)\n",
            "Requirement already satisfied: cycler>=0.10 in /usr/local/lib/python3.6/dist-packages (from matplotlib==3.2.2->u8darts[all]) (0.10.0)\n",
            "Requirement already satisfied: kiwisolver>=1.0.1 in /usr/local/lib/python3.6/dist-packages (from matplotlib==3.2.2->u8darts[all]) (1.2.0)\n",
            "Requirement already satisfied: python-dateutil>=2.1 in /usr/local/lib/python3.6/dist-packages (from matplotlib==3.2.2->u8darts[all]) (2.8.1)\n",
            "Requirement already satisfied: korean-lunar-calendar in /usr/local/lib/python3.6/dist-packages (from holidays==0.10.2->u8darts[all]) (0.2.1)\n",
            "Requirement already satisfied: six in /usr/local/lib/python3.6/dist-packages (from holidays==0.10.2->u8darts[all]) (1.15.0)\n",
            "Requirement already satisfied: convertdate in /usr/local/lib/python3.6/dist-packages (from holidays==0.10.2->u8darts[all]) (2.2.2)\n",
            "Requirement already satisfied: pexpect; sys_platform != \"win32\" in /usr/local/lib/python3.6/dist-packages (from ipython==7.15.0->u8darts[all]) (4.8.0)\n",
            "Requirement already satisfied: setuptools>=18.5 in /usr/local/lib/python3.6/dist-packages (from ipython==7.15.0->u8darts[all]) (50.3.0)\n",
            "Requirement already satisfied: decorator in /usr/local/lib/python3.6/dist-packages (from ipython==7.15.0->u8darts[all]) (4.4.2)\n",
            "Requirement already satisfied: pickleshare in /usr/local/lib/python3.6/dist-packages (from ipython==7.15.0->u8darts[all]) (0.7.5)\n",
            "Requirement already satisfied: backcall in /usr/local/lib/python3.6/dist-packages (from ipython==7.15.0->u8darts[all]) (0.2.0)\n",
            "Requirement already satisfied: traitlets>=4.2 in /usr/local/lib/python3.6/dist-packages (from ipython==7.15.0->u8darts[all]) (4.3.3)\n",
            "Requirement already satisfied: pygments in /usr/local/lib/python3.6/dist-packages (from ipython==7.15.0->u8darts[all]) (2.6.1)\n",
            "Requirement already satisfied: prompt-toolkit!=3.0.0,!=3.0.1,<3.1.0,>=2.0.0 in /usr/local/lib/python3.6/dist-packages (from ipython==7.15.0->u8darts[all]) (3.0.8)\n",
            "Requirement already satisfied: jedi>=0.10 in /usr/local/lib/python3.6/dist-packages (from ipython==7.15.0->u8darts[all]) (0.17.2)\n",
            "Requirement already satisfied: threadpoolctl>=2.0.0 in /usr/local/lib/python3.6/dist-packages (from scikit-learn==0.23.2->u8darts[all]) (2.1.0)\n",
            "Requirement already satisfied: joblib>=0.11 in /usr/local/lib/python3.6/dist-packages (from scikit-learn==0.23.2->u8darts[all]) (0.16.0)\n",
            "Requirement already satisfied: patsy>=0.5 in /usr/local/lib/python3.6/dist-packages (from statsmodels==0.11.1->u8darts[all]) (0.5.1)\n",
            "Requirement already satisfied: pytz>=2017.2 in /usr/local/lib/python3.6/dist-packages (from pandas==1.1.0->u8darts[all]) (2018.9)\n",
            "Requirement already satisfied: LunarCalendar>=0.0.9 in /usr/local/lib/python3.6/dist-packages (from fbprophet==0.6; extra == \"all\"->u8darts[all]) (0.0.9)\n",
            "Requirement already satisfied: Cython>=0.22 in /usr/local/lib/python3.6/dist-packages (from fbprophet==0.6; extra == \"all\"->u8darts[all]) (0.29.17)\n",
            "Requirement already satisfied: setuptools-git>=1.2 in /usr/local/lib/python3.6/dist-packages (from fbprophet==0.6; extra == \"all\"->u8darts[all]) (1.2)\n",
            "Requirement already satisfied: pystan>=2.14 in /usr/local/lib/python3.6/dist-packages (from fbprophet==0.6; extra == \"all\"->u8darts[all]) (2.19.1.1)\n",
            "Requirement already satisfied: cmdstanpy==0.4 in /usr/local/lib/python3.6/dist-packages (from fbprophet==0.6; extra == \"all\"->u8darts[all]) (0.4.0)\n",
            "Requirement already satisfied: urllib3 in /usr/local/lib/python3.6/dist-packages (from pmdarima==1.6.1; extra == \"all\"->u8darts[all]) (1.24.3)\n",
            "Requirement already satisfied: google-auth-oauthlib<0.5,>=0.4.1 in /usr/local/lib/python3.6/dist-packages (from tensorboard==2.2.2; extra == \"all\"->u8darts[all]) (0.4.1)\n",
            "Requirement already satisfied: protobuf>=3.6.0 in /usr/local/lib/python3.6/dist-packages (from tensorboard==2.2.2; extra == \"all\"->u8darts[all]) (3.12.4)\n",
            "Requirement already satisfied: grpcio>=1.24.3 in /usr/local/lib/python3.6/dist-packages (from tensorboard==2.2.2; extra == \"all\"->u8darts[all]) (1.32.0)\n",
            "Requirement already satisfied: absl-py>=0.4 in /usr/local/lib/python3.6/dist-packages (from tensorboard==2.2.2; extra == \"all\"->u8darts[all]) (0.10.0)\n",
            "Requirement already satisfied: requests<3,>=2.21.0 in /usr/local/lib/python3.6/dist-packages (from tensorboard==2.2.2; extra == \"all\"->u8darts[all]) (2.23.0)\n",
            "Requirement already satisfied: werkzeug>=0.11.15 in /usr/local/lib/python3.6/dist-packages (from tensorboard==2.2.2; extra == \"all\"->u8darts[all]) (1.0.1)\n",
            "Requirement already satisfied: wheel>=0.26; python_version >= \"3\" in /usr/local/lib/python3.6/dist-packages (from tensorboard==2.2.2; extra == \"all\"->u8darts[all]) (0.35.1)\n",
            "Requirement already satisfied: tensorboard-plugin-wit>=1.6.0 in /usr/local/lib/python3.6/dist-packages (from tensorboard==2.2.2; extra == \"all\"->u8darts[all]) (1.7.0)\n",
            "Requirement already satisfied: markdown>=2.6.8 in /usr/local/lib/python3.6/dist-packages (from tensorboard==2.2.2; extra == \"all\"->u8darts[all]) (3.2.2)\n",
            "Requirement already satisfied: google-auth<2,>=1.6.3 in /usr/local/lib/python3.6/dist-packages (from tensorboard==2.2.2; extra == \"all\"->u8darts[all]) (1.17.2)\n",
            "Requirement already satisfied: future in /usr/local/lib/python3.6/dist-packages (from torch==1.5.1; extra == \"all\"->u8darts[all]) (0.16.0)\n",
            "Requirement already satisfied: pymeeus<=1,>=0.3.6 in /usr/local/lib/python3.6/dist-packages (from convertdate->holidays==0.10.2->u8darts[all]) (0.3.7)\n",
            "Requirement already satisfied: ptyprocess>=0.5 in /usr/local/lib/python3.6/dist-packages (from pexpect; sys_platform != \"win32\"->ipython==7.15.0->u8darts[all]) (0.6.0)\n",
            "Requirement already satisfied: ipython-genutils in /usr/local/lib/python3.6/dist-packages (from traitlets>=4.2->ipython==7.15.0->u8darts[all]) (0.2.0)\n",
            "Requirement already satisfied: wcwidth in /usr/local/lib/python3.6/dist-packages (from prompt-toolkit!=3.0.0,!=3.0.1,<3.1.0,>=2.0.0->ipython==7.15.0->u8darts[all]) (0.2.5)\n",
            "Requirement already satisfied: parso<0.8.0,>=0.7.0 in /usr/local/lib/python3.6/dist-packages (from jedi>=0.10->ipython==7.15.0->u8darts[all]) (0.7.1)\n",
            "Requirement already satisfied: ephem>=3.7.5.3 in /usr/local/lib/python3.6/dist-packages (from LunarCalendar>=0.0.9->fbprophet==0.6; extra == \"all\"->u8darts[all]) (3.7.7.1)\n",
            "Requirement already satisfied: requests-oauthlib>=0.7.0 in /usr/local/lib/python3.6/dist-packages (from google-auth-oauthlib<0.5,>=0.4.1->tensorboard==2.2.2; extra == \"all\"->u8darts[all]) (1.3.0)\n",
            "Requirement already satisfied: certifi>=2017.4.17 in /usr/local/lib/python3.6/dist-packages (from requests<3,>=2.21.0->tensorboard==2.2.2; extra == \"all\"->u8darts[all]) (2020.6.20)\n",
            "Requirement already satisfied: chardet<4,>=3.0.2 in /usr/local/lib/python3.6/dist-packages (from requests<3,>=2.21.0->tensorboard==2.2.2; extra == \"all\"->u8darts[all]) (3.0.4)\n",
            "Requirement already satisfied: idna<3,>=2.5 in /usr/local/lib/python3.6/dist-packages (from requests<3,>=2.21.0->tensorboard==2.2.2; extra == \"all\"->u8darts[all]) (2.10)\n",
            "Requirement already satisfied: importlib-metadata; python_version < \"3.8\" in /usr/local/lib/python3.6/dist-packages (from markdown>=2.6.8->tensorboard==2.2.2; extra == \"all\"->u8darts[all]) (2.0.0)\n",
            "Requirement already satisfied: rsa<5,>=3.1.4; python_version >= \"3\" in /usr/local/lib/python3.6/dist-packages (from google-auth<2,>=1.6.3->tensorboard==2.2.2; extra == \"all\"->u8darts[all]) (4.6)\n",
            "Requirement already satisfied: pyasn1-modules>=0.2.1 in /usr/local/lib/python3.6/dist-packages (from google-auth<2,>=1.6.3->tensorboard==2.2.2; extra == \"all\"->u8darts[all]) (0.2.8)\n",
            "Requirement already satisfied: cachetools<5.0,>=2.0.0 in /usr/local/lib/python3.6/dist-packages (from google-auth<2,>=1.6.3->tensorboard==2.2.2; extra == \"all\"->u8darts[all]) (4.1.1)\n",
            "Requirement already satisfied: oauthlib>=3.0.0 in /usr/local/lib/python3.6/dist-packages (from requests-oauthlib>=0.7.0->google-auth-oauthlib<0.5,>=0.4.1->tensorboard==2.2.2; extra == \"all\"->u8darts[all]) (3.1.0)\n",
            "Requirement already satisfied: zipp>=0.5 in /usr/local/lib/python3.6/dist-packages (from importlib-metadata; python_version < \"3.8\"->markdown>=2.6.8->tensorboard==2.2.2; extra == \"all\"->u8darts[all]) (3.2.0)\n",
            "Requirement already satisfied: pyasn1>=0.1.3 in /usr/local/lib/python3.6/dist-packages (from rsa<5,>=3.1.4; python_version >= \"3\"->google-auth<2,>=1.6.3->tensorboard==2.2.2; extra == \"all\"->u8darts[all]) (0.4.8)\n"
          ],
          "name": "stdout"
        }
      ]
    },
    {
      "cell_type": "code",
      "metadata": {
        "id": "CHxpnLChqM8R",
        "outputId": "7e8dca37-9e74-4e25-da37-25a12b8a9906",
        "colab": {
          "base_uri": "https://localhost:8080/",
          "height": 210
        }
      },
      "source": [
        "!wget https://raw.githubusercontent.com/unit8co/darts/master/examples/AirPassengers.csv"
      ],
      "execution_count": 5,
      "outputs": [
        {
          "output_type": "stream",
          "text": [
            "--2020-10-21 15:03:19--  https://raw.githubusercontent.com/unit8co/darts/master/examples/AirPassengers.csv\n",
            "Resolving raw.githubusercontent.com (raw.githubusercontent.com)... 151.101.0.133, 151.101.64.133, 151.101.128.133, ...\n",
            "Connecting to raw.githubusercontent.com (raw.githubusercontent.com)|151.101.0.133|:443... connected.\n",
            "HTTP request sent, awaiting response... 200 OK\n",
            "Length: 1746 (1.7K) [text/plain]\n",
            "Saving to: ‘AirPassengers.csv’\n",
            "\n",
            "AirPassengers.csv   100%[===================>]   1.71K  --.-KB/s    in 0s      \n",
            "\n",
            "2020-10-21 15:03:19 (31.1 MB/s) - ‘AirPassengers.csv’ saved [1746/1746]\n",
            "\n"
          ],
          "name": "stdout"
        }
      ]
    },
    {
      "cell_type": "code",
      "metadata": {
        "id": "ogW67SlnpozI"
      },
      "source": [
        "import pandas as pd\n",
        "from darts import TimeSeries\n",
        "\n",
        "df = pd.read_csv('AirPassengers.csv', delimiter=\",\")\n",
        "series = TimeSeries.from_dataframe(df, 'Month', '#Passengers')\n",
        "train, val = series.split_after(pd.Timestamp('19580101'))"
      ],
      "execution_count": 8,
      "outputs": []
    },
    {
      "cell_type": "code",
      "metadata": {
        "id": "7jMwap3RqIhp",
        "outputId": "c1c0b3d1-d8b7-4af5-81c4-014271bccc9a",
        "colab": {
          "base_uri": "https://localhost:8080/",
          "height": 87
        }
      },
      "source": [
        "from darts.models import ExponentialSmoothing\n",
        "\n",
        "model = ExponentialSmoothing()\n",
        "model.fit(train)\n",
        "prediction = model.predict(len(val))"
      ],
      "execution_count": 9,
      "outputs": [
        {
          "output_type": "stream",
          "text": [
            "/usr/local/lib/python3.6/dist-packages/statsmodels/tsa/holtwinters.py:744: ConvergenceWarning:\n",
            "\n",
            "Optimization failed to converge. Check mle_retvals.\n",
            "\n"
          ],
          "name": "stderr"
        }
      ]
    },
    {
      "cell_type": "code",
      "metadata": {
        "id": "8nDq3-PWsDpq",
        "outputId": "a876971d-7830-46fb-8dd1-063ed4a7f512",
        "colab": {
          "base_uri": "https://localhost:8080/",
          "height": 297
        }
      },
      "source": [
        "import matplotlib.pyplot as plt\n",
        "\n",
        "series.plot(label='actual')\n",
        "prediction.plot(label='forecast', lw=2)\n",
        "plt.legend()\n",
        "plt.xlabel('Year')"
      ],
      "execution_count": 10,
      "outputs": [
        {
          "output_type": "execute_result",
          "data": {
            "text/plain": [
              "Text(0.5, 0, 'Year')"
            ]
          },
          "metadata": {
            "tags": []
          },
          "execution_count": 10
        },
        {
          "output_type": "stream",
          "text": [
            "findfont: Font family ['Arial'] not found. Falling back to DejaVu Sans.\n"
          ],
          "name": "stderr"
        },
        {
          "output_type": "display_data",
          "data": {
            "image/png": "[encoded data removed]",
            "text/plain": [
              "<Figure size 432x288 with 1 Axes>"
            ]
          },
          "metadata": {
            "tags": []
          }
        }
      ]
    },
    {
      "cell_type": "code",
      "metadata": {
        "id": "4I5PBiRFsGpW"
      },
      "source": [
        ""
      ],
      "execution_count": null,
      "outputs": []
    }
  ]
}